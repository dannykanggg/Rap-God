{
 "cells": [
  {
   "cell_type": "code",
   "execution_count": 386,
   "id": "09cd29e8",
   "metadata": {},
   "outputs": [],
   "source": [
    "import spotipy\n",
    "from spotipy.oauth2 import SpotifyClientCredentials"
   ]
  },
  {
   "cell_type": "code",
   "execution_count": 387,
   "id": "335c6cb5",
   "metadata": {},
   "outputs": [],
   "source": [
    "import sys\n",
    "sys.path.insert(1, '../../')\n",
    "import api"
   ]
  },
  {
   "cell_type": "code",
   "execution_count": 388,
   "id": "347bf7b2",
   "metadata": {},
   "outputs": [],
   "source": [
    "from better_profanity import profanity"
   ]
  },
  {
   "cell_type": "code",
   "execution_count": 389,
   "id": "2eeacfb2",
   "metadata": {},
   "outputs": [],
   "source": [
    "from random import randint"
   ]
  },
  {
   "cell_type": "code",
   "execution_count": 390,
   "id": "9b1cea1d",
   "metadata": {},
   "outputs": [],
   "source": [
    "cid = api.SPOTIFY_CID\n",
    "secret = api.SPOTIFY_SKEY\n",
    "#Authentication - without user\n",
    "client_credentials_manager = SpotifyClientCredentials(client_id=cid, client_secret=secret)\n",
    "sp = spotipy.Spotify(client_credentials_manager = client_credentials_manager)"
   ]
  },
  {
   "cell_type": "markdown",
   "id": "fac86ebc",
   "metadata": {},
   "source": [
    "# Start with eminem"
   ]
  },
  {
   "cell_type": "code",
   "execution_count": 391,
   "id": "dd7f16b2",
   "metadata": {},
   "outputs": [],
   "source": [
    "eminem = 'https://open.spotify.com/artist/7dGJo4pcD2V6oG8kP0tJRR?si=cbkdp4ZLQl-iQ-FLN1-1Qg'"
   ]
  },
  {
   "cell_type": "code",
   "execution_count": 392,
   "id": "cf56b645",
   "metadata": {},
   "outputs": [],
   "source": [
    "# get eminem's info\n",
    "eminem_info = sp.artist(eminem)"
   ]
  },
  {
   "cell_type": "code",
   "execution_count": 393,
   "id": "8aef6250",
   "metadata": {},
   "outputs": [
    {
     "data": {
      "text/plain": [
       "{'external_urls': {'spotify': 'https://open.spotify.com/artist/7dGJo4pcD2V6oG8kP0tJRR'},\n",
       " 'followers': {'href': None, 'total': 57317423},\n",
       " 'genres': ['detroit hip hop', 'hip hop', 'rap'],\n",
       " 'href': 'https://api.spotify.com/v1/artists/7dGJo4pcD2V6oG8kP0tJRR',\n",
       " 'id': '7dGJo4pcD2V6oG8kP0tJRR',\n",
       " 'images': [{'height': 640,\n",
       "   'url': 'https://i.scdn.co/image/ab6761610000e5eba00b11c129b27a88fc72f36b',\n",
       "   'width': 640},\n",
       "  {'height': 320,\n",
       "   'url': 'https://i.scdn.co/image/ab67616100005174a00b11c129b27a88fc72f36b',\n",
       "   'width': 320},\n",
       "  {'height': 160,\n",
       "   'url': 'https://i.scdn.co/image/ab6761610000f178a00b11c129b27a88fc72f36b',\n",
       "   'width': 160}],\n",
       " 'name': 'Eminem',\n",
       " 'popularity': 89,\n",
       " 'type': 'artist',\n",
       " 'uri': 'spotify:artist:7dGJo4pcD2V6oG8kP0tJRR'}"
      ]
     },
     "execution_count": 393,
     "metadata": {},
     "output_type": "execute_result"
    }
   ],
   "source": [
    "eminem_info"
   ]
  },
  {
   "cell_type": "markdown",
   "id": "6b4fb448",
   "metadata": {},
   "source": [
    "## get info of artists related to eminem"
   ]
  },
  {
   "cell_type": "code",
   "execution_count": 394,
   "id": "29a73fe4",
   "metadata": {},
   "outputs": [],
   "source": [
    "related_artists = sp.artist_related_artists(eminem)"
   ]
  },
  {
   "cell_type": "code",
   "execution_count": 395,
   "id": "a0b82096",
   "metadata": {
    "scrolled": true
   },
   "outputs": [
    {
     "data": {
      "text/plain": [
       "dict_keys(['artists'])"
      ]
     },
     "execution_count": 395,
     "metadata": {},
     "output_type": "execute_result"
    }
   ],
   "source": [
    "related_artists.keys()"
   ]
  },
  {
   "cell_type": "code",
   "execution_count": 396,
   "id": "05986f3f",
   "metadata": {},
   "outputs": [
    {
     "data": {
      "text/plain": [
       "20"
      ]
     },
     "execution_count": 396,
     "metadata": {},
     "output_type": "execute_result"
    }
   ],
   "source": [
    "# returns 20 related artists\n",
    "len(related_artists['artists'])"
   ]
  },
  {
   "cell_type": "code",
   "execution_count": 397,
   "id": "634e7bd5",
   "metadata": {},
   "outputs": [],
   "source": [
    "all_artists = [eminem_info] + related_artists['artists']"
   ]
  },
  {
   "cell_type": "code",
   "execution_count": 398,
   "id": "2acfae14",
   "metadata": {},
   "outputs": [
    {
     "data": {
      "text/plain": [
       "21"
      ]
     },
     "execution_count": 398,
     "metadata": {},
     "output_type": "execute_result"
    }
   ],
   "source": [
    "len(all_artists)"
   ]
  },
  {
   "cell_type": "code",
   "execution_count": 399,
   "id": "e63f3f65",
   "metadata": {},
   "outputs": [
    {
     "data": {
      "text/plain": [
       "'Eminem'"
      ]
     },
     "execution_count": 399,
     "metadata": {},
     "output_type": "execute_result"
    }
   ],
   "source": [
    "all_artists[0]['name']"
   ]
  },
  {
   "cell_type": "code",
   "execution_count": 400,
   "id": "19a3d60c",
   "metadata": {
    "scrolled": true
   },
   "outputs": [
    {
     "data": {
      "text/plain": [
       "'7dGJo4pcD2V6oG8kP0tJRR'"
      ]
     },
     "execution_count": 400,
     "metadata": {},
     "output_type": "execute_result"
    }
   ],
   "source": [
    "all_artists[0]['id']"
   ]
  },
  {
   "cell_type": "markdown",
   "id": "072f464b",
   "metadata": {},
   "source": [
    "# Get top 10 tracks of each artist"
   ]
  },
  {
   "cell_type": "code",
   "execution_count": 401,
   "id": "28242701",
   "metadata": {},
   "outputs": [],
   "source": [
    "def artist_top_tracks(artist_id):\n",
    "    top_tracks_info = sp.artist_top_tracks(artist_id)\n",
    "    song_names = [n['name'] for n in top_tracks_info['tracks']]\n",
    "    return song_names"
   ]
  },
  {
   "cell_type": "code",
   "execution_count": 402,
   "id": "ba409b0e",
   "metadata": {},
   "outputs": [],
   "source": [
    "all_tracks = []\n",
    "for artist in all_artists:\n",
    "    artist_name = artist['name']\n",
    "    artist_id = artist['id']\n",
    "    songs = artist_top_tracks(artist_id)\n",
    "    track_list = [[artist_name,song] for song in songs]\n",
    "    all_tracks = all_tracks + track_list"
   ]
  },
  {
   "cell_type": "code",
   "execution_count": null,
   "id": "efd3db40",
   "metadata": {},
   "outputs": [],
   "source": []
  },
  {
   "cell_type": "markdown",
   "id": "10abe41e",
   "metadata": {},
   "source": [
    "# Get Lyric Data"
   ]
  },
  {
   "cell_type": "code",
   "execution_count": 410,
   "id": "0bdf303b",
   "metadata": {},
   "outputs": [],
   "source": [
    "from lyricsgenius import Genius\n",
    "import re\n",
    "import time"
   ]
  },
  {
   "cell_type": "code",
   "execution_count": 404,
   "id": "1003b368",
   "metadata": {},
   "outputs": [],
   "source": [
    "# initialize token\n",
    "genius = Genius(api.GENIUS_TOKEN)"
   ]
  },
  {
   "cell_type": "code",
   "execution_count": 405,
   "id": "d1af8a5a",
   "metadata": {},
   "outputs": [],
   "source": [
    "lyrics_list = []\n",
    "finished_songs = []"
   ]
  },
  {
   "cell_type": "code",
   "execution_count": null,
   "id": "19876e72",
   "metadata": {},
   "outputs": [],
   "source": []
  },
  {
   "cell_type": "code",
   "execution_count": 412,
   "id": "11e8eab7",
   "metadata": {
    "scrolled": true
   },
   "outputs": [],
   "source": [
    "for track in all_tracks:\n",
    "    artist = track[0]\n",
    "    song = track[1]\n",
    "    \n",
    "    # check if song is finished\n",
    "    if [artist,song] in finished_songs:\n",
    "        #print(\"{}{} finished\".format(artist,song))\n",
    "        continue\n",
    "    try:\n",
    "        genius_song = genius.search_song(song,artist)\n",
    "    except:\n",
    "        time.sleep(2.4) # adding some time helps retrieve \n",
    "        genius_song = genius.search_song(song,artist)\n",
    "        \n",
    "    if genius_song==None:\n",
    "        finished_songs.append([artist,song])\n",
    "        continue\n",
    "\n",
    "    lyrics_list.append([artist,song,genius_song.lyrics])\n",
    "    finished_songs.append([artist,song])"
   ]
  },
  {
   "cell_type": "code",
   "execution_count": null,
   "id": "0fa14797",
   "metadata": {},
   "outputs": [],
   "source": []
  },
  {
   "cell_type": "code",
   "execution_count": null,
   "id": "184985c0",
   "metadata": {},
   "outputs": [],
   "source": []
  },
  {
   "cell_type": "code",
   "execution_count": 413,
   "id": "873b9055",
   "metadata": {
    "scrolled": true
   },
   "outputs": [
    {
     "data": {
      "text/plain": [
       "204"
      ]
     },
     "execution_count": 413,
     "metadata": {},
     "output_type": "execute_result"
    }
   ],
   "source": [
    "len(lyrics_list)"
   ]
  },
  {
   "cell_type": "markdown",
   "id": "36748f8c",
   "metadata": {},
   "source": [
    "# Process Lyric Data"
   ]
  },
  {
   "cell_type": "code",
   "execution_count": 435,
   "id": "fff34bca",
   "metadata": {
    "scrolled": true
   },
   "outputs": [
    {
     "data": {
      "text/plain": [
       "4310"
      ]
     },
     "execution_count": 435,
     "metadata": {},
     "output_type": "execute_result"
    }
   ],
   "source": [
    "len(lyrics_list[0][2])"
   ]
  },
  {
   "cell_type": "code",
   "execution_count": 436,
   "id": "49b60873",
   "metadata": {
    "scrolled": true
   },
   "outputs": [],
   "source": [
    "def preprocess_lyrics(lyrics):\n",
    "    lyrics = re.sub('^[^\\[]*','',lyrics)  #get rid of everything before first verse\n",
    "    lyrics = re.sub('\\[(.*?)\\]','[VERSE]',lyrics) # sub all [] with verse\n",
    "    lyrics = re.sub('\\((.*?)\\)','',lyrics) # remove all parenthesis\n",
    "    lyrics = re.sub('[0-9]+Embed','',lyrics) # remove the last Embed thingy\n",
    "    lyrics = re.sub('  *\\n','\\n',lyrics) # remove space before newline\n",
    "    lyrics = re.sub('[,\"?.\\']','',lyrics) #remove comma, quotes,questionmark,period\n",
    "    lyrics = re.sub('\\n+','\\n',lyrics) # replace double newlines with just newline\n",
    "    return lyrics"
   ]
  },
  {
   "cell_type": "code",
   "execution_count": 437,
   "id": "be527367",
   "metadata": {
    "scrolled": true
   },
   "outputs": [],
   "source": [
    "processed_lyrics = []\n",
    "for track in lyrics_list:\n",
    "    artist = track[0]\n",
    "    song = track[1]\n",
    "    lyric = track[2]\n",
    "    processed_lyric = preprocess_lyrics(lyric)\n",
    "    #processed_lyric = re.sub('\\n\\n','\\n',processed_lyric) # replace double newlines with just newline\n",
    "    processed_lyrics.append(processed_lyric)"
   ]
  },
  {
   "cell_type": "code",
   "execution_count": null,
   "id": "dcd6229e",
   "metadata": {
    "scrolled": false
   },
   "outputs": [],
   "source": []
  },
  {
   "cell_type": "markdown",
   "id": "f08d3ca5",
   "metadata": {},
   "source": [
    "## Build corpus & tokenize & create feed for model"
   ]
  },
  {
   "cell_type": "code",
   "execution_count": 438,
   "id": "a7b79e82",
   "metadata": {},
   "outputs": [],
   "source": [
    "#def data_preparation(lyric):"
   ]
  },
  {
   "cell_type": "code",
   "execution_count": 2,
   "id": "fe3f9589",
   "metadata": {},
   "outputs": [],
   "source": [
    "from keras.preprocessing.text import Tokenizer\n",
    "from tensorflow.keras.utils import pad_sequences,to_categorical"
   ]
  },
  {
   "cell_type": "code",
   "execution_count": 439,
   "id": "4d4cff28",
   "metadata": {},
   "outputs": [],
   "source": [
    "corpus = []\n",
    "for lyric_ in processed_lyrics:\n",
    "    corpus += lyric_.lower().split(\"\\n\")\n",
    "    \n",
    "tokenizer = Tokenizer()\n",
    "tokenizer.fit_on_texts(corpus)\n",
    "\n",
    "total_words = len(tokenizer.word_index) + 1"
   ]
  },
  {
   "cell_type": "code",
   "execution_count": 440,
   "id": "f38e4bbd",
   "metadata": {
    "scrolled": true
   },
   "outputs": [
    {
     "data": {
      "text/plain": [
       "(10058, 19188)"
      ]
     },
     "execution_count": 440,
     "metadata": {},
     "output_type": "execute_result"
    }
   ],
   "source": [
    "total_words, len(corpus)"
   ]
  },
  {
   "cell_type": "code",
   "execution_count": 441,
   "id": "f5741467",
   "metadata": {},
   "outputs": [],
   "source": [
    "# break down each line into multiple training data\n",
    "input_sequences = []\n",
    "for line in corpus:\n",
    "    token_list = tokenizer.texts_to_sequences([line])[0]\n",
    "    for i in range(1, len(token_list)):\n",
    "        n_gram_sequence = token_list[:i+1]\n",
    "        input_sequences.append(n_gram_sequence)     "
   ]
  },
  {
   "cell_type": "code",
   "execution_count": 442,
   "id": "e840cc22",
   "metadata": {},
   "outputs": [],
   "source": [
    "# pad sequences to match length\n",
    "max_sequence_len = max([len(x) for x in input_sequences])\n",
    "input_sequences = np.array(pad_sequences(input_sequences,   \n",
    "                      maxlen=max_sequence_len, padding='pre'))\n"
   ]
  },
  {
   "cell_type": "code",
   "execution_count": 443,
   "id": "dfc533ac",
   "metadata": {},
   "outputs": [],
   "source": [
    "# use the last word as label for model to predict\n",
    "predictors, label = input_sequences[:,:-1],input_sequences[:,-1]\n",
    "label = to_categorical(label, num_classes=total_words)\n"
   ]
  },
  {
   "cell_type": "code",
   "execution_count": 444,
   "id": "18e016cc",
   "metadata": {},
   "outputs": [],
   "source": [
    "#    return predictors, label, max_sequence_len, total_words"
   ]
  },
  {
   "cell_type": "markdown",
   "id": "dcf33aec",
   "metadata": {},
   "source": [
    "## Create model & train"
   ]
  },
  {
   "cell_type": "code",
   "execution_count": null,
   "id": "7311aebf",
   "metadata": {},
   "outputs": [],
   "source": [
    "from tensorflow.keras import Sequential\n",
    "from tensorflow.keras.layers import Embedding,LSTM,Dropout,Dense"
   ]
  },
  {
   "cell_type": "code",
   "execution_count": 445,
   "id": "603d8970",
   "metadata": {},
   "outputs": [],
   "source": [
    "def create_model(predictors, label, max_sequence_len, total_words):\n",
    "    input_len = max_sequence_len - 1\n",
    "    model = Sequential()\n",
    "    model.add(Embedding(total_words, 10, input_length=input_len))\n",
    "    model.add(LSTM(150))\n",
    "    model.add(Dropout(0.1))\n",
    "    model.add(Dense(total_words, activation='softmax'))\n",
    "    model.compile(loss='categorical_crossentropy', optimizer='adam')\n",
    "    model.fit(predictors, label, epochs=100, verbose=1)\n",
    "    return model"
   ]
  },
  {
   "cell_type": "code",
   "execution_count": 446,
   "id": "23714628",
   "metadata": {
    "scrolled": true
   },
   "outputs": [
    {
     "name": "stdout",
     "output_type": "stream",
     "text": [
      "Epoch 1/100\n",
      "3664/3664 [==============================] - 155s 42ms/step - loss: 6.7366\n",
      "Epoch 2/100\n",
      "3664/3664 [==============================] - 154s 42ms/step - loss: 6.3308\n",
      "Epoch 3/100\n",
      "3664/3664 [==============================] - 156s 42ms/step - loss: 5.9821\n",
      "Epoch 4/100\n",
      "3664/3664 [==============================] - 156s 43ms/step - loss: 5.6170\n",
      "Epoch 5/100\n",
      "3664/3664 [==============================] - 158s 43ms/step - loss: 5.2858\n",
      "Epoch 6/100\n",
      "3664/3664 [==============================] - 162s 44ms/step - loss: 4.9801\n",
      "Epoch 7/100\n",
      "3664/3664 [==============================] - 159s 43ms/step - loss: 4.6988\n",
      "Epoch 8/100\n",
      "3664/3664 [==============================] - 156s 43ms/step - loss: 4.4493\n",
      "Epoch 9/100\n",
      "3664/3664 [==============================] - 157s 43ms/step - loss: 4.2288\n",
      "Epoch 10/100\n",
      "3664/3664 [==============================] - 157s 43ms/step - loss: 4.0366\n",
      "Epoch 11/100\n",
      "3664/3664 [==============================] - 164s 45ms/step - loss: 3.8640\n",
      "Epoch 12/100\n",
      "3664/3664 [==============================] - 173s 47ms/step - loss: 3.7179\n",
      "Epoch 13/100\n",
      "3664/3664 [==============================] - 174s 48ms/step - loss: 3.5810\n",
      "Epoch 14/100\n",
      "3664/3664 [==============================] - 175s 48ms/step - loss: 3.4628\n",
      "Epoch 15/100\n",
      "3664/3664 [==============================] - 169s 46ms/step - loss: 3.3558\n",
      "Epoch 16/100\n",
      "3664/3664 [==============================] - 170s 46ms/step - loss: 3.2602\n",
      "Epoch 17/100\n",
      "3664/3664 [==============================] - 169s 46ms/step - loss: 3.1761\n",
      "Epoch 18/100\n",
      "3664/3664 [==============================] - 169s 46ms/step - loss: 3.0981\n",
      "Epoch 19/100\n",
      "3664/3664 [==============================] - 168s 46ms/step - loss: 3.0287\n",
      "Epoch 20/100\n",
      "3664/3664 [==============================] - 170s 46ms/step - loss: 2.9676\n",
      "Epoch 21/100\n",
      "3664/3664 [==============================] - 169s 46ms/step - loss: 2.9056\n",
      "Epoch 22/100\n",
      "3664/3664 [==============================] - 170s 46ms/step - loss: 2.8555\n",
      "Epoch 23/100\n",
      "3664/3664 [==============================] - 169s 46ms/step - loss: 2.8103\n",
      "Epoch 24/100\n",
      "3664/3664 [==============================] - 169s 46ms/step - loss: 2.7627\n",
      "Epoch 25/100\n",
      "3664/3664 [==============================] - 170s 46ms/step - loss: 2.7210\n",
      "Epoch 26/100\n",
      "3664/3664 [==============================] - 170s 46ms/step - loss: 3.2288\n",
      "Epoch 27/100\n",
      "3664/3664 [==============================] - 174s 48ms/step - loss: 2.6848\n",
      "Epoch 28/100\n",
      "3664/3664 [==============================] - 176s 48ms/step - loss: 2.6483\n",
      "Epoch 29/100\n",
      "3664/3664 [==============================] - 173s 47ms/step - loss: 2.6180\n",
      "Epoch 30/100\n",
      "3664/3664 [==============================] - 171s 47ms/step - loss: 2.5849\n",
      "Epoch 31/100\n",
      "3664/3664 [==============================] - 170s 46ms/step - loss: 2.5590\n",
      "Epoch 32/100\n",
      "3664/3664 [==============================] - 172s 47ms/step - loss: 2.5340\n",
      "Epoch 33/100\n",
      "3664/3664 [==============================] - 170s 46ms/step - loss: 2.5136\n",
      "Epoch 34/100\n",
      "3664/3664 [==============================] - 169s 46ms/step - loss: 2.4891\n",
      "Epoch 35/100\n",
      "3664/3664 [==============================] - 171s 47ms/step - loss: 2.4697\n",
      "Epoch 36/100\n",
      "3664/3664 [==============================] - 170s 46ms/step - loss: 2.7230\n",
      "Epoch 37/100\n",
      "3664/3664 [==============================] - 171s 47ms/step - loss: 2.4481\n",
      "Epoch 38/100\n",
      "3664/3664 [==============================] - 170s 46ms/step - loss: 2.4146\n",
      "Epoch 39/100\n",
      "3664/3664 [==============================] - 170s 46ms/step - loss: 3.2932\n",
      "Epoch 40/100\n",
      "3664/3664 [==============================] - 170s 46ms/step - loss: 5.2778\n",
      "Epoch 41/100\n",
      "3664/3664 [==============================] - 170s 46ms/step - loss: 3.2415\n",
      "Epoch 42/100\n",
      "3664/3664 [==============================] - 170s 46ms/step - loss: 2.8838\n",
      "Epoch 43/100\n",
      "3664/3664 [==============================] - 170s 46ms/step - loss: 3.3469\n",
      "Epoch 44/100\n",
      "3664/3664 [==============================] - 169s 46ms/step - loss: 3.7637\n",
      "Epoch 45/100\n",
      "3664/3664 [==============================] - 171s 47ms/step - loss: 3.5329\n",
      "Epoch 46/100\n",
      "3664/3664 [==============================] - 169s 46ms/step - loss: 3.6502\n",
      "Epoch 47/100\n",
      "3664/3664 [==============================] - 170s 46ms/step - loss: 3.1179\n",
      "Epoch 48/100\n",
      "3664/3664 [==============================] - 174s 47ms/step - loss: 2.8780\n",
      "Epoch 49/100\n",
      "3664/3664 [==============================] - 176s 48ms/step - loss: 2.9768\n",
      "Epoch 50/100\n",
      "3664/3664 [==============================] - 175s 48ms/step - loss: 2.9294\n",
      "Epoch 51/100\n",
      "3664/3664 [==============================] - 170s 47ms/step - loss: 2.6591\n",
      "Epoch 52/100\n",
      "3664/3664 [==============================] - 170s 46ms/step - loss: 3.7718\n",
      "Epoch 53/100\n",
      "3664/3664 [==============================] - 170s 46ms/step - loss: 3.2134\n",
      "Epoch 54/100\n",
      "3664/3664 [==============================] - 170s 46ms/step - loss: 2.7986\n",
      "Epoch 55/100\n",
      "3664/3664 [==============================] - 170s 46ms/step - loss: 2.6522\n",
      "Epoch 56/100\n",
      "3664/3664 [==============================] - 171s 47ms/step - loss: 2.5641\n",
      "Epoch 57/100\n",
      "3664/3664 [==============================] - 170s 46ms/step - loss: 2.5226\n",
      "Epoch 58/100\n",
      "3664/3664 [==============================] - 171s 47ms/step - loss: 2.4722\n",
      "Epoch 59/100\n",
      "3664/3664 [==============================] - 179s 49ms/step - loss: 2.4412\n",
      "Epoch 60/100\n",
      "3664/3664 [==============================] - 172s 47ms/step - loss: 2.4295\n",
      "Epoch 61/100\n",
      "3664/3664 [==============================] - 174s 48ms/step - loss: 2.3907\n",
      "Epoch 62/100\n",
      "3664/3664 [==============================] - 173s 47ms/step - loss: 2.3714\n",
      "Epoch 63/100\n",
      "3664/3664 [==============================] - 174s 47ms/step - loss: 2.3550\n",
      "Epoch 64/100\n",
      "3664/3664 [==============================] - 171s 47ms/step - loss: 2.4139\n",
      "Epoch 65/100\n",
      "3664/3664 [==============================] - 175s 48ms/step - loss: 2.3218\n",
      "Epoch 66/100\n",
      "3664/3664 [==============================] - 172s 47ms/step - loss: 2.3355\n",
      "Epoch 67/100\n",
      "3664/3664 [==============================] - 170s 46ms/step - loss: 2.3091\n",
      "Epoch 68/100\n",
      "3664/3664 [==============================] - 171s 47ms/step - loss: 2.3039\n",
      "Epoch 69/100\n",
      "3664/3664 [==============================] - 175s 48ms/step - loss: 2.2824\n",
      "Epoch 70/100\n",
      "3664/3664 [==============================] - 179s 49ms/step - loss: 2.2820\n",
      "Epoch 71/100\n",
      "3664/3664 [==============================] - 175s 48ms/step - loss: 2.2873\n",
      "Epoch 72/100\n",
      "3664/3664 [==============================] - 172s 47ms/step - loss: 2.6708\n",
      "Epoch 73/100\n",
      "3664/3664 [==============================] - 172s 47ms/step - loss: 2.4784\n",
      "Epoch 74/100\n",
      "3664/3664 [==============================] - 174s 48ms/step - loss: 2.3075\n",
      "Epoch 75/100\n",
      "3664/3664 [==============================] - 171s 47ms/step - loss: 2.2492\n",
      "Epoch 76/100\n",
      "3664/3664 [==============================] - 176s 48ms/step - loss: 2.2615\n",
      "Epoch 77/100\n",
      "3664/3664 [==============================] - 174s 47ms/step - loss: 2.2975\n",
      "Epoch 78/100\n",
      "3664/3664 [==============================] - 171s 47ms/step - loss: 3.7218\n",
      "Epoch 79/100\n",
      "3664/3664 [==============================] - 171s 47ms/step - loss: 4.5484\n",
      "Epoch 80/100\n",
      "3664/3664 [==============================] - 172s 47ms/step - loss: 3.9478\n",
      "Epoch 81/100\n",
      "3664/3664 [==============================] - 170s 47ms/step - loss: 2.8113\n",
      "Epoch 82/100\n",
      "3664/3664 [==============================] - 173s 47ms/step - loss: 2.5175\n",
      "Epoch 83/100\n",
      "3664/3664 [==============================] - 172s 47ms/step - loss: 3.1347\n",
      "Epoch 84/100\n",
      "3664/3664 [==============================] - 173s 47ms/step - loss: 2.5490\n",
      "Epoch 85/100\n",
      "3664/3664 [==============================] - 172s 47ms/step - loss: 2.5162\n",
      "Epoch 86/100\n",
      "3664/3664 [==============================] - 170s 47ms/step - loss: 2.5099\n",
      "Epoch 87/100\n",
      "3664/3664 [==============================] - 172s 47ms/step - loss: 2.3910\n",
      "Epoch 88/100\n",
      "3664/3664 [==============================] - 172s 47ms/step - loss: 2.3505\n",
      "Epoch 89/100\n",
      "3664/3664 [==============================] - 171s 47ms/step - loss: 2.3231\n",
      "Epoch 90/100\n",
      "3664/3664 [==============================] - 176s 48ms/step - loss: 2.3223\n",
      "Epoch 91/100\n",
      "3664/3664 [==============================] - 179s 49ms/step - loss: 2.2864\n",
      "Epoch 92/100\n",
      "3664/3664 [==============================] - 176s 48ms/step - loss: 2.2780\n",
      "Epoch 93/100\n",
      "3664/3664 [==============================] - 173s 47ms/step - loss: 2.2562\n",
      "Epoch 94/100\n",
      "3664/3664 [==============================] - 175s 48ms/step - loss: 2.2768\n",
      "Epoch 95/100\n",
      "3664/3664 [==============================] - 171s 47ms/step - loss: 2.2313\n",
      "Epoch 96/100\n",
      "3664/3664 [==============================] - 172s 47ms/step - loss: 2.2496\n",
      "Epoch 97/100\n",
      "3664/3664 [==============================] - 172s 47ms/step - loss: 2.5052\n",
      "Epoch 98/100\n",
      "3664/3664 [==============================] - 173s 47ms/step - loss: 2.5294\n",
      "Epoch 99/100\n",
      "3664/3664 [==============================] - 171s 47ms/step - loss: 2.4489\n",
      "Epoch 100/100\n",
      "3664/3664 [==============================] - 171s 47ms/step - loss: 2.4033\n"
     ]
    }
   ],
   "source": [
    "model = create_model(predictors, label, max_sequence_len, total_words)"
   ]
  },
  {
   "cell_type": "code",
   "execution_count": null,
   "id": "62b1b04e",
   "metadata": {},
   "outputs": [],
   "source": []
  },
  {
   "cell_type": "code",
   "execution_count": 447,
   "id": "6ab925de",
   "metadata": {},
   "outputs": [],
   "source": [
    "def generate_text(seed_text, next_words, max_sequence_len, model):\n",
    "    for j in range(next_words):\n",
    "        token_list = tokenizer.texts_to_sequences([seed_text])[0]\n",
    "        token_list = pad_sequences([token_list], maxlen= \n",
    "                             max_sequence_len-1, padding='pre')\n",
    "        predicted = model.predict(token_list, verbose=0)\n",
    "  \n",
    "        output_word = \"\"\n",
    "        for word, index in tokenizer.word_index.items():\n",
    "            if index == np.argmax(predicted[0]):\n",
    "                output_word = word\n",
    "                break\n",
    "        seed_text += \" \" + output_word\n",
    "    return seed_text"
   ]
  },
  {
   "cell_type": "code",
   "execution_count": 465,
   "id": "424f21ba",
   "metadata": {},
   "outputs": [],
   "source": [
    "rap_lyrics = generate_text(\"Rap God\", 100, max_sequence_len,model).split(\" \")"
   ]
  },
  {
   "cell_type": "code",
   "execution_count": 466,
   "id": "34e80dfd",
   "metadata": {},
   "outputs": [],
   "source": [
    "title_len = 2\n",
    "title = \"\"\n",
    "for i in range(title_len):\n",
    "    title += rap_lyrics.pop(0) + \" \"\n",
    "title = title.strip()"
   ]
  },
  {
   "cell_type": "code",
   "execution_count": 467,
   "id": "7fdab6b9",
   "metadata": {},
   "outputs": [],
   "source": [
    "verses = []\n",
    "while len(rap_lyrics)>0:\n",
    "    verse = ''\n",
    "    for i in range(randint(8,12)):\n",
    "        if len(rap_lyrics)==0:\n",
    "            break\n",
    "        verse += rap_lyrics.pop(0) + \" \"\n",
    "    verse = verse.strip() + \"\\n\"\n",
    "    verse = profanity.censor(verse)  # censor out profanity\n",
    "    verses.append(verse) "
   ]
  },
  {
   "cell_type": "code",
   "execution_count": 469,
   "id": "94845f14",
   "metadata": {
    "scrolled": false
   },
   "outputs": [
    {
     "name": "stdout",
     "output_type": "stream",
     "text": [
      "TITLE: Rap God\n",
      " \n",
      "LYRICS:\n",
      "was a one **** but you like me\n",
      "\n",
      "when you broke for me givin it like\n",
      "\n",
      "its hot work for the world i can do it gon be\n",
      "\n",
      "doin me who pick it back back up back\n",
      "\n",
      "back is the reality has goes to gettin trouble\n",
      "\n",
      "it its not the life to trouble me in the nighttime\n",
      "\n",
      "fame right like me than ever violence are or laugh in\n",
      "\n",
      "the fact you that were not bout to be their\n",
      "\n",
      "last its probably as a dog think its not supposed\n",
      "\n",
      "to get a job **** over it get problems\n",
      "\n",
      "out your first\n",
      "\n"
     ]
    }
   ],
   "source": [
    "print(\"TITLE: {}\".format(title))\n",
    "print(\" \")\n",
    "print(\"LYRICS:\")\n",
    "print(*verses, sep = \"\\n\")"
   ]
  },
  {
   "cell_type": "code",
   "execution_count": null,
   "id": "29ced6cb",
   "metadata": {},
   "outputs": [],
   "source": []
  },
  {
   "cell_type": "code",
   "execution_count": null,
   "id": "97de44ac",
   "metadata": {},
   "outputs": [],
   "source": []
  }
 ],
 "metadata": {
  "kernelspec": {
   "display_name": "Python 3 (ipykernel)",
   "language": "python",
   "name": "python3"
  },
  "language_info": {
   "codemirror_mode": {
    "name": "ipython",
    "version": 3
   },
   "file_extension": ".py",
   "mimetype": "text/x-python",
   "name": "python",
   "nbconvert_exporter": "python",
   "pygments_lexer": "ipython3",
   "version": "3.9.7"
  },
  "toc": {
   "base_numbering": 1,
   "nav_menu": {},
   "number_sections": true,
   "sideBar": true,
   "skip_h1_title": false,
   "title_cell": "Table of Contents",
   "title_sidebar": "Contents",
   "toc_cell": false,
   "toc_position": {},
   "toc_section_display": true,
   "toc_window_display": false
  }
 },
 "nbformat": 4,
 "nbformat_minor": 5
}
